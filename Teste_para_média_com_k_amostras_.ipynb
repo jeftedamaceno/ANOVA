{
  "cells": [
    {
      "cell_type": "code",
      "execution_count": null,
      "metadata": {
        "colab": {
          "base_uri": "https://localhost:8080/"
        },
        "id": "SHF2-7m8zV5y",
        "outputId": "40e7918d-9558-4530-e599-2a391643d6c2"
      },
      "outputs": [
        {
          "name": "stdout",
          "output_type": "stream",
          "text": [
            "Teste ANOVA para a largura da sépala no conjunto de dados Iris\n",
            "\n",
            "Hipótese Nula (H0): Não há diferença significativa entre as médias da largura da sépala entre as espécies.\n",
            "Hipótese Alternativa (HA): Pelo menos uma das médias da largura da sépala é significativamente diferente entre as espécies.\n",
            "\n",
            "Teste de Normalidade (Shapiro-Wilk) para cada grupo:\n",
            "  Espécie 0: p-Value = 0.27153\n",
            "  Espécie 1: p-Value = 0.33800\n",
            "  Espécie 2: p-Value = 0.18090\n",
            "\n",
            "Teste de Homogeneidade de Variâncias (Levene): p-Value = 0.55552\n",
            "  -> As variâncias são homogêneas, condição ideal para ANOVA.\n",
            "\n",
            "Resultados do Teste ANOVA para a largura da sépala:\n",
            "\n",
            "Largura da sépala:\n",
            "  F-Statistic: 49.16\n",
            "  p-Value: 0.00000\n",
            "  -> Rejeitamos H0: Existe diferença significativa entre as médias das espécies.\n",
            "\n",
            "Teste de Comparação Múltipla (Tukey HSD) para identificar diferenças entre grupos:\n",
            "\n",
            "Multiple Comparison of Means - Tukey HSD, FWER=0.05 \n",
            "====================================================\n",
            "group1 group2 meandiff p-adj   lower   upper  reject\n",
            "----------------------------------------------------\n",
            "     0      1  -1.5096    0.0 -1.8787 -1.1406   True\n",
            "     0      2  -1.0416    0.0 -1.4107 -0.6726   True\n",
            "     1      2    0.468 0.0088   0.099  0.8371   True\n",
            "----------------------------------------------------\n"
          ]
        }
      ],
      "source": [
        "import pandas as pd\n",
        "import scipy.stats as stats\n",
        "from sklearn import datasets\n",
        "from scipy.stats import shapiro, levene\n",
        "from statsmodels.stats.multicomp import pairwise_tukeyhsd\n",
        "\n",
        "\n",
        "# Carregar o dataset Iris\n",
        "iris = datasets.load_iris()\n",
        "df = pd.DataFrame(iris.data, columns=iris.feature_names)\n",
        "df['species'] = iris.target\n",
        "\n",
        "# Normalização dos dados (Z-score)\n",
        "df['sepal width (cm)'] = (df['sepal width (cm)'] - df['sepal width (cm)'].mean()) / df['sepal width (cm)'].std()\n",
        "\n",
        "# Exibir as hipóteses\n",
        "print(\"Teste ANOVA para a largura da sépala no conjunto de dados Iris\\n\")\n",
        "print(\"Hipótese Nula (H0): Não há diferença significativa entre as médias da largura da sépala entre as espécies.\")\n",
        "print(\"Hipótese Alternativa (HA): Pelo menos uma das médias da largura da sépala é significativamente diferente entre as espécies.\\n\")\n",
        "\n",
        "# Separar os dados por espécie\n",
        "species_groups = [df[df['species'] == i]['sepal width (cm)'] for i in range(3)]\n",
        "\n",
        "# Teste de Normalidade (Shapiro-Wilk)\n",
        "print(\"Teste de Normalidade (Shapiro-Wilk) para cada grupo:\")\n",
        "for i in range(3):\n",
        "    stat, p = shapiro(species_groups[i])\n",
        "    print(f\"  Espécie {i}: p-Value = {p:.5f}\")\n",
        "print()\n",
        "\n",
        "# Teste de Homogeneidade das Variâncias (Levene)\n",
        "stat, p = levene(*species_groups)\n",
        "print(f\"Teste de Homogeneidade de Variâncias (Levene): p-Value = {p:.5f}\")\n",
        "if p < 0.05:\n",
        "    print(\"  -> As variâncias são diferentes entre os grupos. Isso pode impactar a ANOVA.\\n\")\n",
        "else:\n",
        "    print(\"  -> As variâncias são homogêneas, condição ideal para ANOVA.\\n\")\n",
        "\n",
        "# Realizar ANOVA apenas para largura da sépala\n",
        "print(\"Resultados do Teste ANOVA para a largura da sépala:\\n\")\n",
        "f_stat, p_value = stats.f_oneway(*species_groups)\n",
        "print(f\"Largura da sépala:\")\n",
        "print(f\"  F-Statistic: {f_stat:.2f}\")\n",
        "print(f\"  p-Value: {p_value:.5f}\")\n",
        "if p_value < 0.05:\n",
        "    print(\"  -> Rejeitamos H0: Existe diferença significativa entre as médias das espécies.\\n\")\n",
        "\n",
        "    # Teste post-hoc (Tukey HSD)\n",
        "    print(\"Teste de Comparação Múltipla (Tukey HSD) para identificar diferenças entre grupos:\\n\")\n",
        "    tukey = pairwise_tukeyhsd(df['sepal width (cm)'], df['species'])\n",
        "    print(tukey)\n",
        "else:\n",
        "    print(\"  -> Não rejeitamos H0: Não há evidências suficientes para afirmar que as médias são diferentes.\\n\")\n",
        "\n",
        "# Executar a análise\n",
        "# comclusão essa basse de dados não e recomendado que se utilise o teste anova pois os dados não seguem uma distribuição\n",
        "# normal e não tem Homogeneidade o que esplica\n"
      ]
    },
    {
      "cell_type": "code",
      "execution_count": null,
      "metadata": {
        "colab": {
          "base_uri": "https://localhost:8080/"
        },
        "id": "9dnlNU6h7ih9",
        "outputId": "7b6a6fc6-077f-44ed-9348-831f57aa865b"
      },
      "outputs": [
        {
          "name": "stdout",
          "output_type": "stream",
          "text": [
            "\n",
            "Nenhum grupo ou grupos insuficientes atendem à condição de normalidade para aplicar ANOVA.\n"
          ]
        }
      ],
      "source": []
    },
    {
      "cell_type": "code",
      "execution_count": 4,
      "metadata": {
        "colab": {
          "base_uri": "https://localhost:8080/"
        },
        "id": "D3Yg6b5R7lgf",
        "outputId": "6b42ef25-ede6-4bb8-a2f6-e2f70acca02d"
      },
      "outputs": [
        {
          "name": "stdout",
          "output_type": "stream",
          "text": [
            "Tamanho das amostras:\n",
            "Baixo: 552 vinhos\n",
            "Médio: 531 vinhos\n",
            "Alto: 516 vinhos\n",
            "Teste de Normalidade (Shapiro-Wilk) para cada grupo:\n",
            "Baixo: p-valor = 0.0000\n",
            "Médio: p-valor = 0.0000\n",
            "Alto: p-valor = 0.0000\n",
            "\n",
            "Teste de Homogeneidade de Variâncias (Levene):\n",
            "p-valor = 0.0000\n",
            "\n",
            "Hipóteses do Teste ANOVA:\n",
            "H0: As médias de qualidade dos vinhos nos diferentes grupos de teor alcoólico são iguais.\n",
            "H1: Pelo menos um dos grupos tem média de qualidade diferente.\n",
            "\n",
            "Resultados do Teste ANOVA:\n",
            "F-Estatística: 181.0073, p-valor: 0.0000\n",
            "Rejeitamos a hipótese nula: há diferença significativa entre as médias de qualidade dos grupos.\n"
          ]
        }
      ],
      "source": [
        "import pandas as pd\n",
        "import scipy.stats as stats\n",
        "\n",
        "# Carregar o dataset\n",
        "url = \"https://archive.ics.uci.edu/ml/machine-learning-databases/wine-quality/winequality-red.csv\"\n",
        "df = pd.read_csv(url, sep=';')\n",
        "\n",
        "# Definir os limites para categorizar o teor alcoólico\n",
        "low_threshold = df['alcohol'].quantile(1/3)\n",
        "high_threshold = df['alcohol'].quantile(2/3)\n",
        "\n",
        "def categorize_alcohol(value):\n",
        "    if value <= low_threshold:\n",
        "        return 'Baixo'\n",
        "    elif value <= high_threshold:\n",
        "        return 'Médio'\n",
        "    else:\n",
        "        return 'Alto'\n",
        "\n",
        "# Aplicar a categorização\n",
        "df['Alcohol_Category'] = df['alcohol'].apply(categorize_alcohol)\n",
        "\n",
        "# Separar os grupos\n",
        "group_low = df[df['Alcohol_Category'] == 'Baixo']['quality']\n",
        "group_medium = df[df['Alcohol_Category'] == 'Médio']['quality']\n",
        "group_high = df[df['Alcohol_Category'] == 'Alto']['quality']\n",
        "\n",
        "print(f\"Tamanho das amostras:\")\n",
        "print(f\"Baixo: {len(group_low)} vinhos\")\n",
        "print(f\"Médio: {len(group_medium)} vinhos\")\n",
        "print(f\"Alto: {len(group_high)} vinhos\")\n",
        "# Teste de Normalidade (Shapiro-Wilk)\n",
        "\n",
        "print(\"Teste de Normalidade (Shapiro-Wilk) para cada grupo:\")\n",
        "print(f\"Baixo: p-valor = {stats.shapiro(group_low).pvalue:.4f}\")\n",
        "print(f\"Médio: p-valor = {stats.shapiro(group_medium).pvalue:.4f}\")\n",
        "print(f\"Alto: p-valor = {stats.shapiro(group_high).pvalue:.4f}\")\n",
        "\n",
        "# Teste de Homogeneidade de Variâncias (Levene)\n",
        "levene_test = stats.levene(group_low, group_medium, group_high)\n",
        "print(\"\\nTeste de Homogeneidade de Variâncias (Levene):\")\n",
        "print(f\"p-valor = {levene_test.pvalue:.4f}\")\n",
        "\n",
        "# Aplicar o teste ANOVA\n",
        "anova_result = stats.f_oneway(group_low, group_medium, group_high)\n",
        "\n",
        "# Exibir os resultados\n",
        "print(\"\\nHipóteses do Teste ANOVA:\")\n",
        "print(\"H0: As médias de qualidade dos vinhos nos diferentes grupos de teor alcoólico são iguais.\")\n",
        "print(\"H1: Pelo menos um dos grupos tem média de qualidade diferente.\")\n",
        "\n",
        "print(\"\\nResultados do Teste ANOVA:\")\n",
        "print(f\"F-Estatística: {anova_result.statistic:.4f}, p-valor: {anova_result.pvalue:.4f}\")\n",
        "\n",
        "# Interpretar o resultado\n",
        "a = 0.05\n",
        "if anova_result.pvalue < a:\n",
        "    print(\"Rejeitamos a hipótese nula: há diferença significativa entre as médias de qualidade dos grupos.\")\n",
        "else:\n",
        "    print(\"Não rejeitamos a hipótese nula: não há evidências suficientes para afirmar que há diferença entre as médias de qualidade dos grupos.\")\n"
      ]
    },
    {
      "cell_type": "code",
      "execution_count": 4,
      "metadata": {
        "id": "rIStHK0P7qXu"
      },
      "outputs": [],
      "source": []
    },
    {
      "cell_type": "code",
      "execution_count": 4,
      "metadata": {
        "id": "GFvTy6Oz7pM-"
      },
      "outputs": [],
      "source": []
    }
  ],
  "metadata": {
    "colab": {
      "provenance": []
    },
    "kernelspec": {
      "display_name": "Python 3",
      "language": "python",
      "name": "python3"
    },
    "language_info": {
      "name": "python",
      "version": "3.10.11 (tags/v3.10.11:7d4cc5a, Apr  5 2023, 00:38:17) [MSC v.1929 64 bit (AMD64)]"
    },
    "vscode": {
      "interpreter": {
        "hash": "e2f3fb39945d6d71985272766363874297102d65fc1a2bcb9468e79dce172f0c"
      }
    }
  },
  "nbformat": 4,
  "nbformat_minor": 0
}
